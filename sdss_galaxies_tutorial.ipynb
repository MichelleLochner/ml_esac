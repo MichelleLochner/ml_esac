{
 "cells": [
  {
   "cell_type": "markdown",
   "metadata": {},
   "source": [
    "# SDSS Galaxies Machine Learning Tutorial"
   ]
  },
  {
   "cell_type": "markdown",
   "metadata": {},
   "source": [
    "This is less of a tutorial and more of a playground for you to explore machine learning. I've extracted a random set of a few thousand spectra of galaxies from SDSS DR12. I've also extracted the redshift, as determined by template and line-fitting algorithms. The idea is for you to use machine learning regression to be able to predict the redshift from the spectrum.<br>\n",
    "\n",
    "Have a look at the description of SDSS spectra here: http://www.sdss.org/dr12/spectro/"
   ]
  },
  {
   "cell_type": "code",
   "execution_count": 1,
   "metadata": {
    "collapsed": true
   },
   "outputs": [],
   "source": [
    "from astropy.io import fits\n",
    "import numpy as np\n",
    "import matplotlib.pyplot as plt\n",
    "import glob, os\n",
    "from scipy.interpolate import interp1d\n",
    "import pandas as pd\n",
    "\n",
    "from sklearn.ensemble import RandomForestRegressor\n",
    "from sklearn.model_selection import train_test_split, GridSearchCV\n",
    "from sklearn.decomposition import PCA\n",
    "from sklearn.metrics import mean_squared_error\n",
    "\n",
    "%matplotlib nbagg"
   ]
  },
  {
   "cell_type": "markdown",
   "metadata": {},
   "source": [
    "### Load the data\n",
    "I've extracted the SDSS spectra from the original fits files (which are a pain to work with), interpolated them onto the same wavelength range and put the results into a numpy array (`F`). Each row is a new galaxy, each column in the row is the flux at a given wavelength. The wavelength range is given in `wavs`, which you won't need for the machine learning (since it's the same for each object) but you can use if you want to interpret the spectra physically. Lastly, there's an array of metadata, `met`, each row of which corresponds to the same row in `F`. The columns are [`redshift`, `plate`, `mjd`, `fiberID`]. The plate, mjd and fiberID uniquely identify this spectrum if you'd like to go back to the SDSS database to get more metadata to play with."
   ]
  },
  {
   "cell_type": "code",
   "execution_count": 2,
   "metadata": {
    "collapsed": true
   },
   "outputs": [],
   "source": [
    "F = np.load('spectra.npy')\n",
    "met = np.load('metadata.npy')\n",
    "wavs = np.linspace(4000, 8000, 1000) # in angstroms"
   ]
  },
  {
   "cell_type": "markdown",
   "metadata": {},
   "source": [
    "From here you're on your own! Plot the data, come up with your own set of features and try out a regression algorithm!"
   ]
  },
  {
   "cell_type": "code",
   "execution_count": null,
   "metadata": {
    "collapsed": true
   },
   "outputs": [],
   "source": []
  },
  {
   "cell_type": "code",
   "execution_count": null,
   "metadata": {
    "collapsed": true
   },
   "outputs": [],
   "source": []
  },
  {
   "cell_type": "code",
   "execution_count": null,
   "metadata": {
    "collapsed": true
   },
   "outputs": [],
   "source": []
  },
  {
   "cell_type": "code",
   "execution_count": null,
   "metadata": {
    "collapsed": true
   },
   "outputs": [],
   "source": []
  }
 ],
 "metadata": {
  "anaconda-cloud": {},
  "kernelspec": {
   "display_name": "Python [conda env:py3]",
   "language": "python",
   "name": "conda-env-py3-py"
  },
  "language_info": {
   "codemirror_mode": {
    "name": "ipython",
    "version": 3
   },
   "file_extension": ".py",
   "mimetype": "text/x-python",
   "name": "python",
   "nbconvert_exporter": "python",
   "pygments_lexer": "ipython3",
   "version": "3.5.2"
  }
 },
 "nbformat": 4,
 "nbformat_minor": 2
}
